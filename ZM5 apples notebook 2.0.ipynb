{
 "cells": [
  {
   "cell_type": "code",
   "execution_count": 2,
   "metadata": {},
   "outputs": [],
   "source": [
    "import numpy as np\n",
    "import pandas as pd\n",
    "import re\n",
    "import matplotlib.pyplot as plt\n",
    "\n",
    "from sklearn.model_selection import train_test_split\n",
    "from sklearn.preprocessing import StandardScaler\n",
    "from sklearn.preprocessing import MinMaxScaler\n",
    "from sklearn.linear_model import LinearRegression, Ridge, Lasso\n",
    "from sklearn.neighbors import KNeighborsRegressor\n",
    "from sklearn.neural_network import MLPRegressor\n",
    "from sklearn.svm import LinearSVR, SVR\n",
    "from sklearn.tree import DecisionTreeRegressor\n",
    "from sklearn.ensemble import RandomForestRegressor, GradientBoostingRegressor\n",
    "from sklearn import metrics\n",
    "from sklearn.feature_selection import SelectFromModel\n",
    "from xgboost import XGBRegressor\n",
    "from sklearn.ensemble import StackingRegressor\n",
    "\n",
    "import warnings\n",
    "warnings.filterwarnings(action='ignore')\n",
    "\n",
    "# TO USE XGBOOST YOU NEED TO RUN ' conda install -c anaconda py-xgboost ' IN TERMINAL THEN RESTART JUPYTER"
   ]
  },
  {
   "cell_type": "code",
   "execution_count": 4,
   "metadata": {},
   "outputs": [
    {
     "data": {
      "text/html": [
       "<div>\n",
       "<style scoped>\n",
       "    .dataframe tbody tr th:only-of-type {\n",
       "        vertical-align: middle;\n",
       "    }\n",
       "\n",
       "    .dataframe tbody tr th {\n",
       "        vertical-align: top;\n",
       "    }\n",
       "\n",
       "    .dataframe thead th {\n",
       "        text-align: right;\n",
       "    }\n",
       "</style>\n",
       "<table border=\"1\" class=\"dataframe\">\n",
       "  <thead>\n",
       "    <tr style=\"text-align: right;\">\n",
       "      <th></th>\n",
       "      <th>Province</th>\n",
       "      <th>Container</th>\n",
       "      <th>Size_Grade</th>\n",
       "      <th>Weight_Kg</th>\n",
       "      <th>Date</th>\n",
       "      <th>Low_Price</th>\n",
       "      <th>High_Price</th>\n",
       "      <th>Sales_Total</th>\n",
       "      <th>Total_Qty_Sold</th>\n",
       "      <th>Total_Kg_Sold</th>\n",
       "      <th>Stock_On_Hand</th>\n",
       "      <th>avg_price_per_kg</th>\n",
       "    </tr>\n",
       "  </thead>\n",
       "  <tbody>\n",
       "    <tr>\n",
       "      <th>1</th>\n",
       "      <td>CAPE</td>\n",
       "      <td>M4183</td>\n",
       "      <td>1L</td>\n",
       "      <td>18.3</td>\n",
       "      <td>2020-09-09</td>\n",
       "      <td>150.0</td>\n",
       "      <td>170.0</td>\n",
       "      <td>51710.0</td>\n",
       "      <td>332</td>\n",
       "      <td>6075.6</td>\n",
       "      <td>822</td>\n",
       "      <td>8.51</td>\n",
       "    </tr>\n",
       "    <tr>\n",
       "      <th>7</th>\n",
       "      <td>CAPE</td>\n",
       "      <td>JG110</td>\n",
       "      <td>2M</td>\n",
       "      <td>11.0</td>\n",
       "      <td>2020-04-14</td>\n",
       "      <td>50.0</td>\n",
       "      <td>50.0</td>\n",
       "      <td>16000.0</td>\n",
       "      <td>320</td>\n",
       "      <td>3520.0</td>\n",
       "      <td>0</td>\n",
       "      <td>4.55</td>\n",
       "    </tr>\n",
       "    <tr>\n",
       "      <th>24</th>\n",
       "      <td>W.CAPE-BERGRIVER ETC</td>\n",
       "      <td>JE090</td>\n",
       "      <td>2S</td>\n",
       "      <td>9.0</td>\n",
       "      <td>2020-04-16</td>\n",
       "      <td>55.0</td>\n",
       "      <td>55.0</td>\n",
       "      <td>990.0</td>\n",
       "      <td>18</td>\n",
       "      <td>162.0</td>\n",
       "      <td>1506</td>\n",
       "      <td>6.11</td>\n",
       "    </tr>\n",
       "    <tr>\n",
       "      <th>40</th>\n",
       "      <td>CAPE</td>\n",
       "      <td>M4183</td>\n",
       "      <td>1S</td>\n",
       "      <td>18.3</td>\n",
       "      <td>2020-05-04</td>\n",
       "      <td>80.0</td>\n",
       "      <td>120.0</td>\n",
       "      <td>32020.0</td>\n",
       "      <td>388</td>\n",
       "      <td>7100.4</td>\n",
       "      <td>443</td>\n",
       "      <td>4.51</td>\n",
       "    </tr>\n",
       "    <tr>\n",
       "      <th>69</th>\n",
       "      <td>EASTERN CAPE</td>\n",
       "      <td>IA400</td>\n",
       "      <td>1S</td>\n",
       "      <td>400.0</td>\n",
       "      <td>2020-09-28</td>\n",
       "      <td>1800.0</td>\n",
       "      <td>1800.0</td>\n",
       "      <td>1800.0</td>\n",
       "      <td>1</td>\n",
       "      <td>400.0</td>\n",
       "      <td>2</td>\n",
       "      <td>4.50</td>\n",
       "    </tr>\n",
       "  </tbody>\n",
       "</table>\n",
       "</div>"
      ],
      "text/plain": [
       "                Province Container Size_Grade  Weight_Kg        Date  \\\n",
       "1                   CAPE     M4183         1L       18.3  2020-09-09   \n",
       "7                   CAPE     JG110         2M       11.0  2020-04-14   \n",
       "24  W.CAPE-BERGRIVER ETC     JE090         2S        9.0  2020-04-16   \n",
       "40                  CAPE     M4183         1S       18.3  2020-05-04   \n",
       "69          EASTERN CAPE     IA400         1S      400.0  2020-09-28   \n",
       "\n",
       "    Low_Price  High_Price  Sales_Total  Total_Qty_Sold  Total_Kg_Sold  \\\n",
       "1       150.0       170.0      51710.0             332         6075.6   \n",
       "7        50.0        50.0      16000.0             320         3520.0   \n",
       "24       55.0        55.0        990.0              18          162.0   \n",
       "40       80.0       120.0      32020.0             388         7100.4   \n",
       "69     1800.0      1800.0       1800.0               1          400.0   \n",
       "\n",
       "    Stock_On_Hand  avg_price_per_kg  \n",
       "1             822              8.51  \n",
       "7               0              4.55  \n",
       "24           1506              6.11  \n",
       "40            443              4.51  \n",
       "69              2              4.50  "
      ]
     },
     "execution_count": 4,
     "metadata": {},
     "output_type": "execute_result"
    }
   ],
   "source": [
    "# get data\n",
    "\n",
    "train = pd.read_csv('df - train_set.csv')\n",
    "test = pd.read_csv('df - test_set.csv')\n",
    "\n",
    "train = train[(train['Commodities'] == 'APPLE GOLDEN DELICIOUS')]\n",
    "del train['Commodities'] \n",
    "\n",
    "train.head()"
   ]
  },
  {
   "cell_type": "code",
   "execution_count": 5,
   "metadata": {},
   "outputs": [
    {
     "data": {
      "text/html": [
       "<div>\n",
       "<style scoped>\n",
       "    .dataframe tbody tr th:only-of-type {\n",
       "        vertical-align: middle;\n",
       "    }\n",
       "\n",
       "    .dataframe tbody tr th {\n",
       "        vertical-align: top;\n",
       "    }\n",
       "\n",
       "    .dataframe thead th {\n",
       "        text-align: right;\n",
       "    }\n",
       "</style>\n",
       "<table border=\"1\" class=\"dataframe\">\n",
       "  <thead>\n",
       "    <tr style=\"text-align: right;\">\n",
       "      <th></th>\n",
       "      <th>Index</th>\n",
       "      <th>Province</th>\n",
       "      <th>Container</th>\n",
       "      <th>Size_Grade</th>\n",
       "      <th>Weight_Kg</th>\n",
       "      <th>Date</th>\n",
       "      <th>Low_Price</th>\n",
       "      <th>High_Price</th>\n",
       "      <th>Sales_Total</th>\n",
       "      <th>Total_Qty_Sold</th>\n",
       "      <th>Total_Kg_Sold</th>\n",
       "      <th>Stock_On_Hand</th>\n",
       "    </tr>\n",
       "  </thead>\n",
       "  <tbody>\n",
       "    <tr>\n",
       "      <th>0</th>\n",
       "      <td>1</td>\n",
       "      <td>W.CAPE-BERGRIVER ETC</td>\n",
       "      <td>EC120</td>\n",
       "      <td>1M</td>\n",
       "      <td>12.0</td>\n",
       "      <td>2020-07-09</td>\n",
       "      <td>128.0</td>\n",
       "      <td>136.0</td>\n",
       "      <td>5008.0</td>\n",
       "      <td>38</td>\n",
       "      <td>456.0</td>\n",
       "      <td>0</td>\n",
       "    </tr>\n",
       "    <tr>\n",
       "      <th>1</th>\n",
       "      <td>2</td>\n",
       "      <td>W.CAPE-BERGRIVER ETC</td>\n",
       "      <td>M4183</td>\n",
       "      <td>1X</td>\n",
       "      <td>18.3</td>\n",
       "      <td>2020-01-20</td>\n",
       "      <td>220.0</td>\n",
       "      <td>220.0</td>\n",
       "      <td>1760.0</td>\n",
       "      <td>8</td>\n",
       "      <td>146.4</td>\n",
       "      <td>2</td>\n",
       "    </tr>\n",
       "    <tr>\n",
       "      <th>2</th>\n",
       "      <td>3</td>\n",
       "      <td>W.CAPE-BERGRIVER ETC</td>\n",
       "      <td>EC120</td>\n",
       "      <td>1S</td>\n",
       "      <td>12.0</td>\n",
       "      <td>2020-08-19</td>\n",
       "      <td>120.0</td>\n",
       "      <td>120.0</td>\n",
       "      <td>720.0</td>\n",
       "      <td>6</td>\n",
       "      <td>72.0</td>\n",
       "      <td>45</td>\n",
       "    </tr>\n",
       "    <tr>\n",
       "      <th>3</th>\n",
       "      <td>4</td>\n",
       "      <td>W.CAPE-BERGRIVER ETC</td>\n",
       "      <td>M4183</td>\n",
       "      <td>1M</td>\n",
       "      <td>18.3</td>\n",
       "      <td>2020-05-06</td>\n",
       "      <td>160.0</td>\n",
       "      <td>160.0</td>\n",
       "      <td>160.0</td>\n",
       "      <td>1</td>\n",
       "      <td>18.3</td>\n",
       "      <td>8</td>\n",
       "    </tr>\n",
       "    <tr>\n",
       "      <th>4</th>\n",
       "      <td>5</td>\n",
       "      <td>W.CAPE-BERGRIVER ETC</td>\n",
       "      <td>M4183</td>\n",
       "      <td>1L</td>\n",
       "      <td>18.3</td>\n",
       "      <td>2020-05-04</td>\n",
       "      <td>140.0</td>\n",
       "      <td>160.0</td>\n",
       "      <td>14140.0</td>\n",
       "      <td>100</td>\n",
       "      <td>1830.0</td>\n",
       "      <td>19</td>\n",
       "    </tr>\n",
       "  </tbody>\n",
       "</table>\n",
       "</div>"
      ],
      "text/plain": [
       "   Index              Province Container Size_Grade  Weight_Kg        Date  \\\n",
       "0      1  W.CAPE-BERGRIVER ETC     EC120         1M       12.0  2020-07-09   \n",
       "1      2  W.CAPE-BERGRIVER ETC     M4183         1X       18.3  2020-01-20   \n",
       "2      3  W.CAPE-BERGRIVER ETC     EC120         1S       12.0  2020-08-19   \n",
       "3      4  W.CAPE-BERGRIVER ETC     M4183         1M       18.3  2020-05-06   \n",
       "4      5  W.CAPE-BERGRIVER ETC     M4183         1L       18.3  2020-05-04   \n",
       "\n",
       "   Low_Price  High_Price  Sales_Total  Total_Qty_Sold  Total_Kg_Sold  \\\n",
       "0      128.0       136.0       5008.0              38          456.0   \n",
       "1      220.0       220.0       1760.0               8          146.4   \n",
       "2      120.0       120.0        720.0               6           72.0   \n",
       "3      160.0       160.0        160.0               1           18.3   \n",
       "4      140.0       160.0      14140.0             100         1830.0   \n",
       "\n",
       "   Stock_On_Hand  \n",
       "0              0  \n",
       "1              2  \n",
       "2             45  \n",
       "3              8  \n",
       "4             19  "
      ]
     },
     "execution_count": 5,
     "metadata": {},
     "output_type": "execute_result"
    }
   ],
   "source": [
    "del test['Commodities']\n",
    "test.head()"
   ]
  },
  {
   "cell_type": "code",
   "execution_count": null,
   "metadata": {},
   "outputs": [],
   "source": []
  },
  {
   "cell_type": "code",
   "execution_count": 4,
   "metadata": {},
   "outputs": [
    {
     "name": "stdout",
     "output_type": "stream",
     "text": [
      "<class 'pandas.core.frame.DataFrame'>\n",
      "RangeIndex: 685 entries, 0 to 684\n",
      "Data columns (total 12 columns):\n",
      " #   Column          Non-Null Count  Dtype  \n",
      "---  ------          --------------  -----  \n",
      " 0   Index           685 non-null    int64  \n",
      " 1   Province        685 non-null    object \n",
      " 2   Container       685 non-null    object \n",
      " 3   Size_Grade      685 non-null    object \n",
      " 4   Weight_Kg       685 non-null    float64\n",
      " 5   Date            685 non-null    object \n",
      " 6   Low_Price       685 non-null    float64\n",
      " 7   High_Price      685 non-null    float64\n",
      " 8   Sales_Total     685 non-null    float64\n",
      " 9   Total_Qty_Sold  685 non-null    int64  \n",
      " 10  Total_Kg_Sold   685 non-null    float64\n",
      " 11  Stock_On_Hand   685 non-null    int64  \n",
      "dtypes: float64(5), int64(3), object(4)\n",
      "memory usage: 64.3+ KB\n"
     ]
    }
   ],
   "source": [
    "test.info()"
   ]
  },
  {
   "cell_type": "code",
   "execution_count": 5,
   "metadata": {},
   "outputs": [
    {
     "data": {
      "text/html": [
       "<div>\n",
       "<style scoped>\n",
       "    .dataframe tbody tr th:only-of-type {\n",
       "        vertical-align: middle;\n",
       "    }\n",
       "\n",
       "    .dataframe tbody tr th {\n",
       "        vertical-align: top;\n",
       "    }\n",
       "\n",
       "    .dataframe thead th {\n",
       "        text-align: right;\n",
       "    }\n",
       "</style>\n",
       "<table border=\"1\" class=\"dataframe\">\n",
       "  <thead>\n",
       "    <tr style=\"text-align: right;\">\n",
       "      <th></th>\n",
       "      <th>Weight_Kg</th>\n",
       "      <th>Low_Price</th>\n",
       "      <th>High_Price</th>\n",
       "      <th>Sales_Total</th>\n",
       "      <th>Total_Qty_Sold</th>\n",
       "      <th>Total_Kg_Sold</th>\n",
       "      <th>Stock_On_Hand</th>\n",
       "      <th>avg_price_per_kg</th>\n",
       "    </tr>\n",
       "  </thead>\n",
       "  <tbody>\n",
       "    <tr>\n",
       "      <th>count</th>\n",
       "      <td>1952.000000</td>\n",
       "      <td>1952.000000</td>\n",
       "      <td>1952.000000</td>\n",
       "      <td>1952.000000</td>\n",
       "      <td>1952.000000</td>\n",
       "      <td>1952.000000</td>\n",
       "      <td>1952.000000</td>\n",
       "      <td>1952.000000</td>\n",
       "    </tr>\n",
       "    <tr>\n",
       "      <th>mean</th>\n",
       "      <td>40.460912</td>\n",
       "      <td>174.307377</td>\n",
       "      <td>215.648053</td>\n",
       "      <td>20053.533811</td>\n",
       "      <td>174.510758</td>\n",
       "      <td>2960.176332</td>\n",
       "      <td>408.393955</td>\n",
       "      <td>6.778893</td>\n",
       "    </tr>\n",
       "    <tr>\n",
       "      <th>std</th>\n",
       "      <td>99.655169</td>\n",
       "      <td>373.553578</td>\n",
       "      <td>433.546159</td>\n",
       "      <td>39005.069445</td>\n",
       "      <td>308.810797</td>\n",
       "      <td>6097.416527</td>\n",
       "      <td>724.450582</td>\n",
       "      <td>2.248744</td>\n",
       "    </tr>\n",
       "    <tr>\n",
       "      <th>min</th>\n",
       "      <td>3.000000</td>\n",
       "      <td>2.000000</td>\n",
       "      <td>5.000000</td>\n",
       "      <td>5.000000</td>\n",
       "      <td>1.000000</td>\n",
       "      <td>3.000000</td>\n",
       "      <td>0.000000</td>\n",
       "      <td>0.250000</td>\n",
       "    </tr>\n",
       "    <tr>\n",
       "      <th>25%</th>\n",
       "      <td>9.000000</td>\n",
       "      <td>50.000000</td>\n",
       "      <td>60.000000</td>\n",
       "      <td>1325.000000</td>\n",
       "      <td>12.000000</td>\n",
       "      <td>219.600000</td>\n",
       "      <td>9.000000</td>\n",
       "      <td>5.460000</td>\n",
       "    </tr>\n",
       "    <tr>\n",
       "      <th>50%</th>\n",
       "      <td>12.000000</td>\n",
       "      <td>80.000000</td>\n",
       "      <td>108.000000</td>\n",
       "      <td>5495.000000</td>\n",
       "      <td>64.000000</td>\n",
       "      <td>853.500000</td>\n",
       "      <td>126.500000</td>\n",
       "      <td>6.670000</td>\n",
       "    </tr>\n",
       "    <tr>\n",
       "      <th>75%</th>\n",
       "      <td>18.300000</td>\n",
       "      <td>127.250000</td>\n",
       "      <td>160.000000</td>\n",
       "      <td>21082.500000</td>\n",
       "      <td>200.000000</td>\n",
       "      <td>3093.525000</td>\n",
       "      <td>468.000000</td>\n",
       "      <td>8.280000</td>\n",
       "    </tr>\n",
       "    <tr>\n",
       "      <th>max</th>\n",
       "      <td>400.000000</td>\n",
       "      <td>2300.000000</td>\n",
       "      <td>3300.000000</td>\n",
       "      <td>369464.000000</td>\n",
       "      <td>4237.000000</td>\n",
       "      <td>74000.000000</td>\n",
       "      <td>6400.000000</td>\n",
       "      <td>21.240000</td>\n",
       "    </tr>\n",
       "  </tbody>\n",
       "</table>\n",
       "</div>"
      ],
      "text/plain": [
       "         Weight_Kg    Low_Price   High_Price    Sales_Total  Total_Qty_Sold  \\\n",
       "count  1952.000000  1952.000000  1952.000000    1952.000000     1952.000000   \n",
       "mean     40.460912   174.307377   215.648053   20053.533811      174.510758   \n",
       "std      99.655169   373.553578   433.546159   39005.069445      308.810797   \n",
       "min       3.000000     2.000000     5.000000       5.000000        1.000000   \n",
       "25%       9.000000    50.000000    60.000000    1325.000000       12.000000   \n",
       "50%      12.000000    80.000000   108.000000    5495.000000       64.000000   \n",
       "75%      18.300000   127.250000   160.000000   21082.500000      200.000000   \n",
       "max     400.000000  2300.000000  3300.000000  369464.000000     4237.000000   \n",
       "\n",
       "       Total_Kg_Sold  Stock_On_Hand  avg_price_per_kg  \n",
       "count    1952.000000    1952.000000       1952.000000  \n",
       "mean     2960.176332     408.393955          6.778893  \n",
       "std      6097.416527     724.450582          2.248744  \n",
       "min         3.000000       0.000000          0.250000  \n",
       "25%       219.600000       9.000000          5.460000  \n",
       "50%       853.500000     126.500000          6.670000  \n",
       "75%      3093.525000     468.000000          8.280000  \n",
       "max     74000.000000    6400.000000         21.240000  "
      ]
     },
     "execution_count": 5,
     "metadata": {},
     "output_type": "execute_result"
    }
   ],
   "source": [
    "train.describe()"
   ]
  },
  {
   "cell_type": "code",
   "execution_count": null,
   "metadata": {},
   "outputs": [],
   "source": []
  },
  {
   "cell_type": "code",
   "execution_count": 7,
   "metadata": {},
   "outputs": [
    {
     "data": {
      "text/plain": [
       "array(['CAPE', 'W.CAPE-BERGRIVER ETC', 'EASTERN CAPE', 'NATAL',\n",
       "       'WEST COAST', 'TRANSVAAL', 'ORANGE FREE STATE'], dtype=object)"
      ]
     },
     "execution_count": 7,
     "metadata": {},
     "output_type": "execute_result"
    }
   ],
   "source": [
    "train['Province'].unique()"
   ]
  },
  {
   "cell_type": "code",
   "execution_count": 8,
   "metadata": {},
   "outputs": [
    {
     "data": {
      "text/plain": [
       "array(['M4183', 'JG110', 'JE090', 'IA400', 'EC120', 'AC030', 'M6125',\n",
       "       'EF120', 'DT063', 'M9125', 'EG140'], dtype=object)"
      ]
     },
     "execution_count": 8,
     "metadata": {},
     "output_type": "execute_result"
    }
   ],
   "source": [
    "train['Container'].unique()"
   ]
  },
  {
   "cell_type": "code",
   "execution_count": 275,
   "metadata": {},
   "outputs": [
    {
     "data": {
      "text/plain": [
       "array(['1L', '2M', '2S', '1S', '1M', '1X', '2L', '2U', '2X', '1U'],\n",
       "      dtype=object)"
      ]
     },
     "execution_count": 275,
     "metadata": {},
     "output_type": "execute_result"
    }
   ],
   "source": [
    "train['Size_Grade'].unique()"
   ]
  },
  {
   "cell_type": "code",
   "execution_count": 6,
   "metadata": {},
   "outputs": [
    {
     "data": {
      "image/png": "[encoded data removed]",
      "text/plain": [
       "<Figure size 432x288 with 1 Axes>"
      ]
     },
     "metadata": {
      "needs_background": "light"
     },
     "output_type": "display_data"
    }
   ],
   "source": [
    "# DETERMINE ORDER OF SIZE_GRADE\n",
    "\n",
    "size = train.groupby('Size_Grade').mean()\n",
    "grades = size.avg_price_per_kg.sort_values().index #sort the indices \n",
    "price = size.avg_price_per_kg.sort_values()\n",
    "\n",
    "plt.bar(grades, price, color= 'green')\n",
    "plt.xticks(rotation=45)\n",
    "\n",
    "plt.ylabel('avg_price_per_kg')\n",
    "plt.xlabel('Size_Grade')\n",
    "\n",
    "\n",
    "plt.title('Price for Quality\\n')\n",
    "plt.show()"
   ]
  },
  {
   "cell_type": "code",
   "execution_count": 6,
   "metadata": {},
   "outputs": [],
   "source": [
    "# DUMMY\n",
    "\n",
    "def onehot_encode(df, column):\n",
    "    df = df.copy()\n",
    "    dummies = pd.get_dummies(df[column], prefix=column, drop_first=True)\n",
    "    df = pd.concat([df, dummies], axis=1)\n",
    "    df = df.drop(column, axis=1)\n",
    "    return df"
   ]
  },
  {
   "cell_type": "code",
   "execution_count": 7,
   "metadata": {},
   "outputs": [],
   "source": [
    "# PREPROCESSING \n",
    "seed = 1\n",
    "def preprocess_inputs(df, return_df=False):\n",
    "    df = df.copy()\n",
    "    \n",
    "    # CLEAN PROVINCE COLUMN\n",
    "    \n",
    "    df['Province'] = df['Province'].str.replace(' ', '_')\n",
    "    df['Province'] = df['Province'].str.replace('.', '_')\n",
    "    df['Province'] = df['Province'].str.replace('-', '_')\n",
    "    \n",
    "    # DATE ENCODING\n",
    "    # Split 'Date' column into year, month and day columns \n",
    "\n",
    "    df['Date'] = pd.to_datetime(df['Date'])\n",
    "    df['Date'] = df['Date'].dt.strftime('%d.%m.%Y')\n",
    "    df['year'] = pd.DatetimeIndex(df['Date']).year\n",
    "    df['month'] = pd.DatetimeIndex(df['Date']).month\n",
    "    df['day'] = pd.DatetimeIndex(df['Date']).day\n",
    "\n",
    "    df = df.drop(['Date'], axis = 1) \n",
    "    \n",
    "    # BINARY ENCODING\n",
    "    \n",
    "    df['year'] = df['year'].replace({2020: 1, 2019: 0})\n",
    "        \n",
    "    # ONE-HOT ENCODING\n",
    "    for column in ['Province', 'Container']:\n",
    "        df = onehot_encode(df, column)\n",
    "        \n",
    "    # ORDINAL ENCODING\n",
    "    df['Size_Grade'] = df['Size_Grade'].replace({'1X': 9,'1L': 8, '1M': 7, '1S': 6, '1U':0, '2X':3, '2L':5, '2M':4, '2S':1, '2U':2})\n",
    "    \n",
    "    \n",
    "    # REMOVE REMORE HIGHLY CORRRELATED COLUMNS\n",
    "    \n",
    "    for column in ['Total_Kg_Sold', 'Sales_Total', 'Low_Price']:\n",
    "        df = df.drop([column], axis = 1) \n",
    "   \n",
    "        \n",
    "    if return_df==True:\n",
    "        return df\n",
    "    \n",
    "        ## for training dataset\n",
    "        # REORDER COLUMNS SO THAT OUR DEPENDENT VARIABLE IS THE LAST COLUMN OF THE DATAFRAME\n",
    "    elif 'avg_price_per_kg' in df.columns:\n",
    "        column_titles = [col for col in df.columns if col!= 'avg_price_per_kg'] + ['avg_price_per_kg']\n",
    "        df = df.reindex(columns = column_titles)\n",
    "    \n",
    "        # SPLIT DATA INTO PREDICTORS AND TARGET\n",
    "    \n",
    "        y = df['avg_price_per_kg']\n",
    "        X = df.drop('avg_price_per_kg', axis=1)\n",
    "        y = np.array(y)\n",
    "        \n",
    "\n",
    "        # SCALE\n",
    "        x_scaler = StandardScaler()\n",
    "        y_scaler = StandardScaler()\n",
    "\n",
    "        X_scaled = x_scaler.fit_transform(X) \n",
    "        y_scaled = y_scaler.fit_transform(y.reshape(-1, 1)) \n",
    "        \n",
    "        # TRAIN TEST SPLIT\n",
    "        X_train, X_test, y_train, y_test = train_test_split(X_scaled, y_scaled, test_size=0.3, shuffle=False, random_state=seed)\n",
    "        \n",
    "        return X_train, X_test, y_train, y_test, x_scaler, y_scaler\n",
    "    \n",
    "        \n",
    "    else:\n",
    "        return df\n",
    "    "
   ]
  },
  {
   "cell_type": "code",
   "execution_count": 306,
   "metadata": {},
   "outputs": [],
   "source": [
    "X_train, X_test, y_train, y_test, x_scaler, y_scaler = preprocess_inputs(train)"
   ]
  },
  {
   "cell_type": "code",
   "execution_count": 311,
   "metadata": {},
   "outputs": [
    {
     "name": "stdout",
     "output_type": "stream",
     "text": [
      "                     Linear Regression trained.\n",
      " Linear Regression (L2 Regularization) trained.\n",
      " Linear Regression (L1 Regularization) trained.\n",
      "                   K-Nearest Neighbors trained.\n",
      "                        Neural Network trained.\n",
      "Support Vector Machine (Linear Kernel) trained.\n",
      "   Support Vector Machine (RBF Kernel) trained.\n",
      "                         Decision Tree trained.\n",
      "                         Random Forest trained.\n",
      "                     Gradient Boosting trained.\n",
      "                               XGBoost trained.\n"
     ]
    }
   ],
   "source": [
    "# TRAIN A FEW MODELS\n",
    "\n",
    "models = {\n",
    "    \"                     Linear Regression\": LinearRegression(),\n",
    "    \" Linear Regression (L2 Regularization)\": Ridge(),\n",
    "    \" Linear Regression (L1 Regularization)\": Lasso(),\n",
    "    \"                   K-Nearest Neighbors\": KNeighborsRegressor(),\n",
    "    \"                        Neural Network\": MLPRegressor(),\n",
    "    \"Support Vector Machine (Linear Kernel)\": LinearSVR(),\n",
    "    \"   Support Vector Machine (RBF Kernel)\": SVR(),\n",
    "    \"                         Decision Tree\": DecisionTreeRegressor(),\n",
    "    \"                         Random Forest\": RandomForestRegressor(n_estimators= 400, random_state= seed),\n",
    "    \"                     Gradient Boosting\": GradientBoostingRegressor(),\n",
    "    \"                               XGBoost\": XGBRegressor(objective='reg:squarederror', n_estimators=100)\n",
    "}\n",
    "\n",
    "for name, model in models.items():\n",
    "    model.fit(X_train, y_train)\n",
    "    print(name + \" trained.\")"
   ]
  },
  {
   "cell_type": "code",
   "execution_count": 312,
   "metadata": {},
   "outputs": [
    {
     "name": "stdout",
     "output_type": "stream",
     "text": [
      "                     Linear Regression R^2 Score: 0.58979\n",
      " Linear Regression (L2 Regularization) R^2 Score: 0.58983\n",
      " Linear Regression (L1 Regularization) R^2 Score: -0.00146\n",
      "                   K-Nearest Neighbors R^2 Score: 0.61283\n",
      "                        Neural Network R^2 Score: 0.81359\n",
      "Support Vector Machine (Linear Kernel) R^2 Score: 0.58374\n",
      "   Support Vector Machine (RBF Kernel) R^2 Score: 0.69046\n",
      "                         Decision Tree R^2 Score: 0.84927\n",
      "                         Random Forest R^2 Score: 0.90879\n",
      "                     Gradient Boosting R^2 Score: 0.88083\n",
      "                               XGBoost R^2 Score: 0.89711\n"
     ]
    }
   ],
   "source": [
    "#EVALUATE MODEL ON R SQUARED - HIGHER IS BETTER\n",
    "\n",
    "for name, model in models.items():\n",
    "    print(name + \" R^2 Score: {:.5f}\".format(model.score(X_test, y_test)))\n",
    "    "
   ]
  },
  {
   "cell_type": "code",
   "execution_count": 313,
   "metadata": {},
   "outputs": [
    {
     "name": "stdout",
     "output_type": "stream",
     "text": [
      "                     Linear Regression RMSE: 0.65337\n",
      "Mean Absolute Error: 0.49 degrees.\n",
      "Accuracy: 119.88 %.\n",
      " Linear Regression (L2 Regularization) RMSE: 0.65334\n",
      "Mean Absolute Error: 0.49 degrees.\n",
      "Accuracy: 119.87 %.\n",
      " Linear Regression (L1 Regularization) RMSE: 1.02088\n",
      "Mean Absolute Error: 0.79 degrees.\n",
      "Accuracy: 110.42 %.\n",
      "                   K-Nearest Neighbors RMSE: 0.63475\n",
      "Mean Absolute Error: 0.44 degrees.\n",
      "Accuracy: 88.94 %.\n",
      "                        Neural Network RMSE: 0.44045\n",
      "Mean Absolute Error: 1.06 degrees.\n",
      "Accuracy: 114.65 %.\n",
      "Support Vector Machine (Linear Kernel) RMSE: 0.65817\n",
      "Mean Absolute Error: 1.01 degrees.\n",
      "Accuracy: 119.88 %.\n",
      "   Support Vector Machine (RBF Kernel) RMSE: 0.56757\n",
      "Mean Absolute Error: 1.02 degrees.\n",
      "Accuracy: 117.46 %.\n",
      "                         Decision Tree RMSE: 0.39605\n",
      "Mean Absolute Error: 1.13 degrees.\n",
      "Accuracy: 111.08 %.\n",
      "                         Random Forest RMSE: 0.30809\n",
      "Mean Absolute Error: 1.09 degrees.\n",
      "Accuracy: 112.22 %.\n",
      "                     Gradient Boosting RMSE: 0.35216\n",
      "Mean Absolute Error: 1.06 degrees.\n",
      "Accuracy: 113.94 %.\n",
      "                               XGBoost RMSE: 0.32722\n",
      "Mean Absolute Error: 1.1 degrees.\n",
      "Accuracy: 113.29 %.\n"
     ]
    }
   ],
   "source": [
    "#EVALUATE MODEL ON RMSE - LOWER IS BETTER\n",
    "\n",
    "for name, model in models.items():\n",
    "    y_pred = model.predict(X_test)\n",
    "    print(name + \" RMSE: {:.5f}\".format(np.sqrt(metrics.mean_squared_error(y_test ,y_pred))))\n",
    "    \n",
    "    errors = abs(y_pred - y_test)\n",
    "\n",
    "    # Display the performance metrics\n",
    "    print('Mean Absolute Error:', round(np.mean(errors), 2), 'degrees.')\n",
    "\n",
    "    mape = np.mean(100 * (errors / y_test))\n",
    "    accuracy = 100 - mape\n",
    "\n",
    "    print('Accuracy:', round(accuracy, 2), '%.')"
   ]
  },
  {
   "cell_type": "code",
   "execution_count": 320,
   "metadata": {},
   "outputs": [],
   "source": [
    "# GENERATE CSV FOR SUBMISSION TO KAGGLE\n",
    "# DON'T SUBMIT ALL, ONLY THOSE WHICH DID GOOD ON EVALUATION TO CONFIRM\n",
    "\n",
    "df = preprocess_inputs(test)\n",
    "\n",
    "Xs = list(df.columns)\n",
    "Xs.remove('Index')\n",
    "\n",
    "X_test = df[Xs]\n",
    "X_scaled = x_scaler.fit_transform(X_test)\n",
    "\n",
    "for name, model in models.items():\n",
    "    y_pred = model.predict(X_scaled)\n",
    "    y_rescaled = y_scaler.inverse_transform(y_pred) \n",
    "    d = pd.DataFrame(y_rescaled, columns =['avg_price_per_kg'])\n",
    "    dff = pd.concat([df['Index'], d], axis=1)\n",
    "    dff = dff.set_index('Index')\n",
    "    \n",
    "    match= re.findall('[A-Z]', name)    \n",
    "    matchno = re.findall('[0-9]+', name)   \n",
    "    file_name = ''.join(match) + ''.join(matchno)\n",
    "    dff.to_csv(file_name + '.csv')"
   ]
  },
  {
   "cell_type": "code",
   "execution_count": 238,
   "metadata": {},
   "outputs": [
    {
     "name": "stdout",
     "output_type": "stream",
     "text": [
      "Variable: High_Price           Importance: 0.55\n",
      "Variable: Weight_Kg            Importance: 0.15\n",
      "Variable: Container_IA400      Importance: 0.1\n",
      "Variable: Total_Qty_Sold       Importance: 0.07\n",
      "Variable: Stock_On_Hand        Importance: 0.04\n",
      "Variable: month                Importance: 0.02\n",
      "Variable: day                  Importance: 0.02\n",
      "Variable: Province_W_CAPE_BERGRIVER_ETC Importance: 0.01\n",
      "Variable: Container_M4183      Importance: 0.01\n",
      "Variable: year                 Importance: 0.0\n",
      "Variable: Province_EASTERN_CAPE Importance: 0.0\n",
      "Variable: Province_NATAL       Importance: 0.0\n",
      "Variable: Province_ORANGE_FREE_STATE Importance: 0.0\n",
      "Variable: Province_TRANSVAAL   Importance: 0.0\n",
      "Variable: Province_WEST_COAST  Importance: 0.0\n",
      "Variable: Container_DT063      Importance: 0.0\n",
      "Variable: Container_EC120      Importance: 0.0\n",
      "Variable: Container_EF120      Importance: 0.0\n",
      "Variable: Container_EG140      Importance: 0.0\n",
      "Variable: Container_JE090      Importance: 0.0\n",
      "Variable: Container_JG110      Importance: 0.0\n",
      "Variable: Container_M6125      Importance: 0.0\n",
      "Variable: Container_M9125      Importance: 0.0\n",
      "Variable: Size_Grade_1M        Importance: 0.0\n",
      "Variable: Size_Grade_1S        Importance: 0.0\n",
      "Variable: Size_Grade_1U        Importance: 0.0\n",
      "Variable: Size_Grade_1X        Importance: 0.0\n",
      "Variable: Size_Grade_2L        Importance: 0.0\n",
      "Variable: Size_Grade_2M        Importance: 0.0\n",
      "Variable: Size_Grade_2S        Importance: 0.0\n",
      "Variable: Size_Grade_2U        Importance: 0.0\n",
      "Variable: Size_Grade_2X        Importance: 0.0\n"
     ]
    }
   ],
   "source": [
    "# FEAUTURE IMPORTANCES\n",
    "\n",
    "df = train.drop('avg_price_per_kg', axis = 1)\n",
    "features = preprocess_inputs(df)\n",
    "feature_list = list(features.columns)\n",
    "\n",
    "\n",
    "for name, model in models.items():\n",
    "    if name == \"                         Random Forest\":\n",
    "        # Get numerical feature importances\n",
    "        importances = list(model.feature_importances_)\n",
    "\n",
    "        # List of tuples with variable and importance\n",
    "        feature_importances = [(feature, round(importance, 2)) for feature, importance in zip(feature_list, importances)]\n",
    "\n",
    "        # Sort the feature importances by most important first\n",
    "        feature_importances = sorted(feature_importances, key = lambda x: x[1], reverse = True)\n",
    "\n",
    "        # Print out the feature and importances \n",
    "        [print('Variable: {:20} Importance: {}'.format(*pair)) for pair in feature_importances];\n",
    "\n"
   ]
  },
  {
   "cell_type": "code",
   "execution_count": 239,
   "metadata": {},
   "outputs": [],
   "source": [
    "#SELECTING IMPORTANT FEATURES\n",
    "\n",
    "df = preprocess_inputs(train, return_df=True)\n",
    "\n",
    "\n",
    "y = df['avg_price_per_kg']\n",
    "X = df.drop('avg_price_per_kg', axis=1)\n",
    "\n",
    "# GET IMPORTANT COLUMN NAMES\n",
    "\n",
    "important = []\n",
    "for i in ['Size_Grade', 'Container_IA400', 'Weight_Kg', 'Total_Qty_Sold', 'High_Price', 'month', 'day', 'Stock_On_Hand']:\n",
    "    A = [col for col in df.columns if i in col]\n",
    "    important.append(A)\n",
    "    \n",
    "important_list = [item for sublist in important for item in sublist]\n",
    "\n",
    "# IMPORTANT DATAFRAME\n",
    "X_imp = X[important_list]\n"
   ]
  },
  {
   "cell_type": "code",
   "execution_count": 244,
   "metadata": {},
   "outputs": [
    {
     "name": "stdout",
     "output_type": "stream",
     "text": [
      "Random Forest trained.\n"
     ]
    }
   ],
   "source": [
    "# NEW MODEL WITH IMPORTANT FEATURES\n",
    "\n",
    "X_imp_train, X_imp_test, y_train, y_test = train_test_split(X_imp, y, test_size=0.30, shuffle=False, random_state=seed)\n",
    "\n",
    "rf = RandomForestRegressor(n_estimators= 800, random_state=seed)\n",
    "\n",
    "rf.fit(X_imp_train, y_train)\n",
    "\n",
    "print(\"Random Forest trained.\")"
   ]
  },
  {
   "cell_type": "code",
   "execution_count": 245,
   "metadata": {},
   "outputs": [
    {
     "name": "stdout",
     "output_type": "stream",
     "text": [
      "Mean Absolute Error: 0.47 degrees.\n",
      "Accuracy: 91.76 %.\n",
      " RMSE: 0.73139\n"
     ]
    }
   ],
   "source": [
    "# Make predictions and determine the error\n",
    "pred = rf.predict(X_imp_test)\n",
    "\n",
    "errors = abs(pred - y_test)\n",
    "\n",
    "# Display the performance metrics\n",
    "print('Mean Absolute Error:', round(np.mean(errors), 2), 'degrees.')\n",
    "\n",
    "mape = np.mean(100 * (errors / y_test))\n",
    "accuracy = 100 - mape\n",
    "\n",
    "print('Accuracy:', round(accuracy, 2), '%.')\n",
    "print(\" RMSE: {:.5f}\".format(np.sqrt(metrics.mean_squared_error(y_test ,pred))))\n",
    "    "
   ]
  },
  {
   "cell_type": "code",
   "execution_count": 249,
   "metadata": {},
   "outputs": [
    {
     "name": "stdout",
     "output_type": "stream",
     "text": [
      "                     Linear Regression trained.\n",
      " Linear Regression (L2 Regularization) trained.\n",
      " Linear Regression (L1 Regularization) trained.\n",
      "                   K-Nearest Neighbors trained.\n",
      "                        Neural Network trained.\n",
      "Support Vector Machine (Linear Kernel) trained.\n",
      "   Support Vector Machine (RBF Kernel) trained.\n",
      "                         Decision Tree trained.\n",
      "                         Random Forest trained.\n",
      "                     Gradient Boosting trained.\n",
      "                               XGBoost trained.\n"
     ]
    }
   ],
   "source": [
    "# TRAIN MODELS WITH IMPORTANT FEATURES\n",
    "\n",
    "models = {\n",
    "    \"                     Linear Regression\": LinearRegression(),\n",
    "    \" Linear Regression (L2 Regularization)\": Ridge(),\n",
    "    \" Linear Regression (L1 Regularization)\": Lasso(),\n",
    "    \"                   K-Nearest Neighbors\": KNeighborsRegressor(),\n",
    "    \"                        Neural Network\": MLPRegressor(),\n",
    "    \"Support Vector Machine (Linear Kernel)\": LinearSVR(),\n",
    "    \"   Support Vector Machine (RBF Kernel)\": SVR(),\n",
    "    \"                         Decision Tree\": DecisionTreeRegressor(),\n",
    "    \"                         Random Forest\": RandomForestRegressor(n_estimators= 800, random_state= seed),\n",
    "    \"                     Gradient Boosting\": GradientBoostingRegressor(),\n",
    "    \"                               XGBoost\": XGBRegressor()\n",
    "}\n",
    "\n",
    "for name, model in models.items():\n",
    "    model.fit(X_imp_train, y_train)\n",
    "    print(name + \" trained.\")"
   ]
  },
  {
   "cell_type": "code",
   "execution_count": 247,
   "metadata": {},
   "outputs": [
    {
     "name": "stdout",
     "output_type": "stream",
     "text": [
      "                     Linear Regression R^2 Score: 0.50194\n",
      " Linear Regression (L2 Regularization) R^2 Score: 0.50446\n",
      " Linear Regression (L1 Regularization) R^2 Score: 0.25170\n",
      "                   K-Nearest Neighbors R^2 Score: 0.69365\n",
      "                        Neural Network R^2 Score: 0.41410\n",
      "Support Vector Machine (Linear Kernel) R^2 Score: -7.74124\n",
      "   Support Vector Machine (RBF Kernel) R^2 Score: 0.52682\n",
      "                         Decision Tree R^2 Score: 0.79482\n",
      "                         Random Forest R^2 Score: 0.89404\n",
      "                     Gradient Boosting R^2 Score: 0.87775\n",
      "                               XGBoost R^2 Score: 0.88432\n"
     ]
    }
   ],
   "source": [
    "#EVALUATE MODEL ON R SQUARED - HIGHER IS BETTER\n",
    "\n",
    "for name, model in models.items():\n",
    "    print(name + \" R^2 Score: {:.5f}\".format(model.score(X_imp_test, y_test)))\n",
    " "
   ]
  },
  {
   "cell_type": "code",
   "execution_count": 250,
   "metadata": {},
   "outputs": [
    {
     "name": "stdout",
     "output_type": "stream",
     "text": [
      "                     Linear Regression RMSE: 1.61855\n",
      "Mean Absolute Error: 1.17 degrees.\n",
      "Accuracy: 74.23 %.\n",
      " Linear Regression (L2 Regularization) RMSE: 1.61445\n",
      "Mean Absolute Error: 1.17 degrees.\n",
      "Accuracy: 73.98 %.\n",
      " Linear Regression (L1 Regularization) RMSE: 1.98392\n",
      "Mean Absolute Error: 1.51 degrees.\n",
      "Accuracy: 66.67 %.\n",
      "                   K-Nearest Neighbors RMSE: 1.26938\n",
      "Mean Absolute Error: 0.9 degrees.\n",
      "Accuracy: 83.27 %.\n",
      "                        Neural Network RMSE: 2.01549\n",
      "Mean Absolute Error: 1.39 degrees.\n",
      "Accuracy: 74.18 %.\n",
      "Support Vector Machine (Linear Kernel) RMSE: 4.05927\n",
      "Mean Absolute Error: 2.83 degrees.\n",
      "Accuracy: 16.71 %.\n",
      "   Support Vector Machine (RBF Kernel) RMSE: 1.57761\n",
      "Mean Absolute Error: 1.13 degrees.\n",
      "Accuracy: 70.6 %.\n",
      "                         Decision Tree RMSE: 1.01814\n",
      "Mean Absolute Error: 0.58 degrees.\n",
      "Accuracy: 90.78 %.\n",
      "                         Random Forest RMSE: 0.73139\n",
      "Mean Absolute Error: 0.47 degrees.\n",
      "Accuracy: 91.76 %.\n",
      "                     Gradient Boosting RMSE: 0.80186\n",
      "Mean Absolute Error: 0.53 degrees.\n",
      "Accuracy: 89.81 %.\n",
      "                               XGBoost RMSE: 0.78005\n",
      "Mean Absolute Error: 0.52 degrees.\n",
      "Accuracy: 91.18 %.\n"
     ]
    }
   ],
   "source": [
    "#EVALUATE MODEL ON RMSE - LOWER IS BETTER\n",
    "\n",
    "for name, model in models.items():\n",
    "    y_pred = model.predict(X_imp_test)\n",
    "    print(name + \" RMSE: {:.5f}\".format(np.sqrt(metrics.mean_squared_error(y_test ,y_pred))))\n",
    "    \n",
    "    errors = abs(y_pred - y_test)\n",
    "\n",
    "    # Display the performance metrics\n",
    "    print('Mean Absolute Error:', round(np.mean(errors), 2), 'degrees.')\n",
    "\n",
    "    mape = np.mean(100 * (errors / y_test))\n",
    "    accuracy = 100 - mape\n",
    "\n",
    "    print('Accuracy:', round(accuracy, 2), '%.')"
   ]
  },
  {
   "cell_type": "code",
   "execution_count": 316,
   "metadata": {},
   "outputs": [
    {
     "data": {
      "text/plain": [
       "XGBRegressor(base_score=0.5, booster='gbtree', colsample_bylevel=1,\n",
       "             colsample_bynode=1, colsample_bytree=1, gamma=0, gpu_id=-1,\n",
       "             importance_type='gain', interaction_constraints='',\n",
       "             learning_rate=0.300000012, max_delta_step=0, max_depth=6,\n",
       "             min_child_weight=1, missing=nan, monotone_constraints='()',\n",
       "             n_estimators=1000, n_jobs=4, num_parallel_tree=1, random_state=0,\n",
       "             reg_alpha=0, reg_lambda=1, scale_pos_weight=1, subsample=1,\n",
       "             tree_method='exact', validate_parameters=1, verbosity=None)"
      ]
     },
     "execution_count": 316,
     "metadata": {},
     "output_type": "execute_result"
    }
   ],
   "source": [
    "X_train, X_test, y_train, y_test, x_scaler, y_scaler = preprocess_inputs(train)\n",
    "xgb = XGBRegressor(objective='reg:squarederror', n_estimators=1000)\n",
    "xgb.fit(X_train, y_train)"
   ]
  },
  {
   "cell_type": "code",
   "execution_count": 319,
   "metadata": {},
   "outputs": [],
   "source": [
    "# ANOTHER CELL FOR GETTING CSV FOR SPECEFIC MODEL\n",
    "\n",
    "df= preprocess_inputs(test)\n",
    "\n",
    "Xs = list(df.columns)\n",
    "Xs.remove('Index')\n",
    "\n",
    "X_test = df[Xs]\n",
    "X_scaled = x_scaler.fit_transform(X_test)\n",
    "\n",
    "y_pred = xgb.predict(X_scaled)\n",
    "y_rescaled = y_scaler.inverse_transform(y_pred) \n",
    "\n",
    "\n",
    "d = pd.DataFrame(y_rescaled, columns =['avg_price_per_kg'])\n",
    "dff = pd.concat([df['Index'], d], axis=1)\n",
    "dff = dff.set_index('Index')\n",
    "dff.to_csv('xgb.csv')"
   ]
  },
  {
   "cell_type": "code",
   "execution_count": null,
   "metadata": {},
   "outputs": [],
   "source": []
  },
  {
   "cell_type": "code",
   "execution_count": 321,
   "metadata": {},
   "outputs": [],
   "source": [
    "# NOW ENSEMBLE STACKING\n",
    "\n",
    "# CHOOSE BEST MODELS FROM EARLIER SCORES\n",
    "\n",
    "rf = RandomForestRegressor(n_estimators= 200, random_state= seed)\n",
    "gb =GradientBoostingRegressor()\n",
    "xgb = XGBRegressor()\n",
    "\n",
    "meta_learner_reg = RandomForestRegressor(n_estimators= 200, random_state= seed)\n",
    "\n",
    "models = [(\"rf\", rf),(\"gb\", gb),(\"xgb\", xgb)]\n",
    "\n",
    "s_reg = StackingRegressor(estimators=models, final_estimator= meta_learner_reg)\n"
   ]
  },
  {
   "cell_type": "code",
   "execution_count": 322,
   "metadata": {},
   "outputs": [
    {
     "data": {
      "text/plain": [
       "StackingRegressor(estimators=[('rf',\n",
       "                               RandomForestRegressor(n_estimators=200,\n",
       "                                                     random_state=1)),\n",
       "                              ('gb', GradientBoostingRegressor()),\n",
       "                              ('xgb',\n",
       "                               XGBRegressor(base_score=None, booster=None,\n",
       "                                            colsample_bylevel=None,\n",
       "                                            colsample_bynode=None,\n",
       "                                            colsample_bytree=None, gamma=None,\n",
       "                                            gpu_id=None, importance_type='gain',\n",
       "                                            interaction_constraints=None,\n",
       "                                            learning_rate=None,\n",
       "                                            max_delta_step=None, max_depth=None,\n",
       "                                            min_child_weight=None, missing=nan,\n",
       "                                            monotone_constraints=None,\n",
       "                                            n_estimators=100, n_jobs=None,\n",
       "                                            num_parallel_tree=None,\n",
       "                                            random_state=None, reg_alpha=None,\n",
       "                                            reg_lambda=None,\n",
       "                                            scale_pos_weight=None,\n",
       "                                            subsample=None, tree_method=None,\n",
       "                                            validate_parameters=None,\n",
       "                                            verbosity=None))],\n",
       "                  final_estimator=RandomForestRegressor(n_estimators=200,\n",
       "                                                        random_state=1))"
      ]
     },
     "execution_count": 322,
     "metadata": {},
     "output_type": "execute_result"
    }
   ],
   "source": [
    "s_reg.fit(X_train,y_train)"
   ]
  },
  {
   "cell_type": "code",
   "execution_count": 324,
   "metadata": {},
   "outputs": [],
   "source": [
    "X_train, X_test, y_train, y_test, sy, sx = preprocess_inputs(train)"
   ]
  },
  {
   "cell_type": "code",
   "execution_count": 325,
   "metadata": {},
   "outputs": [
    {
     "name": "stdout",
     "output_type": "stream",
     "text": [
      "R^2 Score:  0.8971138001837136\n",
      "RMSE: 0.34539\n",
      "Mean Absolute Error: 1.1 degrees.\n",
      "Accuracy: 111.99 %.\n"
     ]
    }
   ],
   "source": [
    "# METRICS OF STACKING REGRESSOR\n",
    "\n",
    "y_pred = s_reg.predict(X_test)\n",
    "rsq = model.score(X_test, y_test)\n",
    "print(\"R^2 Score: \", rsq)\n",
    "\n",
    "print(\"RMSE: {:.5f}\".format(np.sqrt(metrics.mean_squared_error(y_test ,y_pred))))\n",
    " \n",
    "errors = abs(y_pred - y_test)\n",
    "print('Mean Absolute Error:', round(np.mean(errors), 2), 'degrees.')\n",
    "mape = np.mean(100 * (errors / y_test))\n",
    "accuracy = 100 - mape\n",
    "print('Accuracy:', round(accuracy, 2), '%.')"
   ]
  },
  {
   "cell_type": "code",
   "execution_count": null,
   "metadata": {},
   "outputs": [],
   "source": []
  },
  {
   "cell_type": "code",
   "execution_count": null,
   "metadata": {},
   "outputs": [],
   "source": []
  },
  {
   "cell_type": "code",
   "execution_count": null,
   "metadata": {},
   "outputs": [],
   "source": []
  },
  {
   "cell_type": "code",
   "execution_count": null,
   "metadata": {},
   "outputs": [],
   "source": []
  }
 ],
 "metadata": {
  "kernelspec": {
   "display_name": "Python 3",
   "language": "python",
   "name": "python3"
  },
  "language_info": {
   "codemirror_mode": {
    "name": "ipython",
    "version": 3
   },
   "file_extension": ".py",
   "mimetype": "text/x-python",
   "name": "python",
   "nbconvert_exporter": "python",
   "pygments_lexer": "ipython3",
   "version": "3.8.5"
  }
 },
 "nbformat": 4,
 "nbformat_minor": 4
}