{
 "cells": [
  {
   "cell_type": "code",
   "execution_count": 2,
   "metadata": {},
   "outputs": [],
   "source": [
    "import numpy as np\n",
    "import pandas as pd\n",
    "import matplotlib.pyplot as plt\n",
    "from matplotlib import rc\n",
    "import seaborn as sns\n",
    "import pickle\n",
    "from sklearn.linear_model import LinearRegression"
   ]
  },
  {
   "cell_type": "code",
   "execution_count": null,
   "metadata": {},
   "outputs": [],
   "source": [
    "\n",
    "# Fetch training data and preprocess for modeling\n",
    "train = pd.read_csv('data/train_data.csv')\n",
    "\n",
    "train = train[(train['Commodities'] == 'APPLE GOLDEN DELICIOUS')]\n",
    "\n",
    "y_train = train['avg_price_per_kg']\n",
    "X_train = train[['Total_Qty_Sold','Stock_On_Hand']]\n",
    "\n",
    "# Fit model\n",
    "lm_regression = LinearRegression(normalize=True)\n",
    "print (\"Training Model...\")\n",
    "lm_regression.fit(X_train, y_train)"
   ]
  }
 ],
 "metadata": {
  "kernelspec": {
   "name": "python385jvsc74a57bd013427881f06f13311079f5221e5dd632fdf9146891f6da22d47a93dcb9272d3a",
   "display_name": "Python 3.8.5 64-bit ('base': conda)"
  },
  "language_info": {
   "codemirror_mode": {
    "name": "ipython",
    "version": 3
   },
   "file_extension": ".py",
   "mimetype": "text/x-python",
   "name": "python",
   "nbconvert_exporter": "python",
   "pygments_lexer": "ipython3",
   "version": "3.8.5"
  }
 },
 "nbformat": 4,
 "nbformat_minor": 4
}