{
 "cells": [
  {
   "cell_type": "code",
   "execution_count": 5,
   "metadata": {},
   "outputs": [],
   "source": [
    "import numpy as np\n",
    "import pandas as pd\n",
    "import matplotlib.pyplot as plt\n",
    "from matplotlib import rc\n",
    "import seaborn as sns\n",
    "import pickle\n",
    "from sklearn.linear_model import LinearRegression"
   ]
  },
  {
   "cell_type": "code",
   "execution_count": 7,
   "metadata": {},
   "outputs": [
    {
     "output_type": "execute_result",
     "data": {
      "text/plain": [
       "                 Province Container Size_Grade  Weight_Kg  \\\n",
       "1                    CAPE     M4183         1L       18.3   \n",
       "7                    CAPE     JG110         2M       11.0   \n",
       "24   W.CAPE-BERGRIVER ETC     JE090         2S        9.0   \n",
       "40                   CAPE     M4183         1S       18.3   \n",
       "69           EASTERN CAPE     IA400         1S      400.0   \n",
       "80                   CAPE     JE090         2S        9.0   \n",
       "117                  CAPE     EC120         1M       12.0   \n",
       "122                  CAPE     JG110         2M       11.0   \n",
       "126                 NATAL     IA400         2M      400.0   \n",
       "162  W.CAPE-BERGRIVER ETC     EC120         1S       12.0   \n",
       "164            WEST COAST     JE090         2S        9.0   \n",
       "230                  CAPE     IA400         1S      400.0   \n",
       "258                  CAPE     M4183         1X       18.3   \n",
       "278  W.CAPE-BERGRIVER ETC     JE090         2S        9.0   \n",
       "291  W.CAPE-BERGRIVER ETC     IA400         1S      400.0   \n",
       "\n",
       "                Commodities        Date  Low_Price  High_Price  Sales_Total  \\\n",
       "1    APPLE GOLDEN DELICIOUS  2020-09-09      150.0       170.0      51710.0   \n",
       "7    APPLE GOLDEN DELICIOUS  2020-04-14       50.0        50.0      16000.0   \n",
       "24   APPLE GOLDEN DELICIOUS  2020-04-16       55.0        55.0        990.0   \n",
       "40   APPLE GOLDEN DELICIOUS  2020-05-04       80.0       120.0      32020.0   \n",
       "69   APPLE GOLDEN DELICIOUS  2020-09-28     1800.0      1800.0       1800.0   \n",
       "80   APPLE GOLDEN DELICIOUS  2020-03-13       55.0        55.0       4840.0   \n",
       "117  APPLE GOLDEN DELICIOUS  2019-12-30      100.0       100.0       1200.0   \n",
       "122  APPLE GOLDEN DELICIOUS  2020-08-05       70.0        70.0       5600.0   \n",
       "126  APPLE GOLDEN DELICIOUS  2020-07-21      800.0       800.0       1600.0   \n",
       "162  APPLE GOLDEN DELICIOUS  2020-04-22      104.0       104.0       2392.0   \n",
       "164  APPLE GOLDEN DELICIOUS  2020-02-25       55.0        60.0      19860.0   \n",
       "230  APPLE GOLDEN DELICIOUS  2020-09-28     1000.0      2000.0     139000.0   \n",
       "258  APPLE GOLDEN DELICIOUS  2020-08-06      100.0       180.0       4630.0   \n",
       "278  APPLE GOLDEN DELICIOUS  2020-08-25       55.0        55.0       4950.0   \n",
       "291  APPLE GOLDEN DELICIOUS  2020-07-01     2000.0      2400.0       6800.0   \n",
       "\n",
       "     Total_Qty_Sold  Total_Kg_Sold  Stock_On_Hand  avg_price_per_kg  \n",
       "1               332         6075.6            822              8.51  \n",
       "7               320         3520.0              0              4.55  \n",
       "24               18          162.0           1506              6.11  \n",
       "40              388         7100.4            443              4.51  \n",
       "69                1          400.0              2              4.50  \n",
       "80               88          792.0            181              6.11  \n",
       "117              12          144.0            119              8.33  \n",
       "122              80          880.0              0              6.36  \n",
       "126               2          800.0              0              2.00  \n",
       "162              23          276.0              0              8.67  \n",
       "164             359         3231.0              0              6.15  \n",
       "230              73        29200.0             96              4.76  \n",
       "258              37          677.1            127              6.84  \n",
       "278              90          810.0            220              6.11  \n",
       "291               3         1200.0             18              5.67  "
      ],
      "text/html": "<div>\n<style scoped>\n    .dataframe tbody tr th:only-of-type {\n        vertical-align: middle;\n    }\n\n    .dataframe tbody tr th {\n        vertical-align: top;\n    }\n\n    .dataframe thead th {\n        text-align: right;\n    }\n</style>\n<table border=\"1\" class=\"dataframe\">\n  <thead>\n    <tr style=\"text-align: right;\">\n      <th></th>\n      <th>Province</th>\n      <th>Container</th>\n      <th>Size_Grade</th>\n      <th>Weight_Kg</th>\n      <th>Commodities</th>\n      <th>Date</th>\n      <th>Low_Price</th>\n      <th>High_Price</th>\n      <th>Sales_Total</th>\n      <th>Total_Qty_Sold</th>\n      <th>Total_Kg_Sold</th>\n      <th>Stock_On_Hand</th>\n      <th>avg_price_per_kg</th>\n    </tr>\n  </thead>\n  <tbody>\n    <tr>\n      <th>1</th>\n      <td>CAPE</td>\n      <td>M4183</td>\n      <td>1L</td>\n      <td>18.3</td>\n      <td>APPLE GOLDEN DELICIOUS</td>\n      <td>2020-09-09</td>\n      <td>150.0</td>\n      <td>170.0</td>\n      <td>51710.0</td>\n      <td>332</td>\n      <td>6075.6</td>\n      <td>822</td>\n      <td>8.51</td>\n    </tr>\n    <tr>\n      <th>7</th>\n      <td>CAPE</td>\n      <td>JG110</td>\n      <td>2M</td>\n      <td>11.0</td>\n      <td>APPLE GOLDEN DELICIOUS</td>\n      <td>2020-04-14</td>\n      <td>50.0</td>\n      <td>50.0</td>\n      <td>16000.0</td>\n      <td>320</td>\n      <td>3520.0</td>\n      <td>0</td>\n      <td>4.55</td>\n    </tr>\n    <tr>\n      <th>24</th>\n      <td>W.CAPE-BERGRIVER ETC</td>\n      <td>JE090</td>\n      <td>2S</td>\n      <td>9.0</td>\n      <td>APPLE GOLDEN DELICIOUS</td>\n      <td>2020-04-16</td>\n      <td>55.0</td>\n      <td>55.0</td>\n      <td>990.0</td>\n      <td>18</td>\n      <td>162.0</td>\n      <td>1506</td>\n      <td>6.11</td>\n    </tr>\n    <tr>\n      <th>40</th>\n      <td>CAPE</td>\n      <td>M4183</td>\n      <td>1S</td>\n      <td>18.3</td>\n      <td>APPLE GOLDEN DELICIOUS</td>\n      <td>2020-05-04</td>\n      <td>80.0</td>\n      <td>120.0</td>\n      <td>32020.0</td>\n      <td>388</td>\n      <td>7100.4</td>\n      <td>443</td>\n      <td>4.51</td>\n    </tr>\n    <tr>\n      <th>69</th>\n      <td>EASTERN CAPE</td>\n      <td>IA400</td>\n      <td>1S</td>\n      <td>400.0</td>\n      <td>APPLE GOLDEN DELICIOUS</td>\n      <td>2020-09-28</td>\n      <td>1800.0</td>\n      <td>1800.0</td>\n      <td>1800.0</td>\n      <td>1</td>\n      <td>400.0</td>\n      <td>2</td>\n      <td>4.50</td>\n    </tr>\n    <tr>\n      <th>80</th>\n      <td>CAPE</td>\n      <td>JE090</td>\n      <td>2S</td>\n      <td>9.0</td>\n      <td>APPLE GOLDEN DELICIOUS</td>\n      <td>2020-03-13</td>\n      <td>55.0</td>\n      <td>55.0</td>\n      <td>4840.0</td>\n      <td>88</td>\n      <td>792.0</td>\n      <td>181</td>\n      <td>6.11</td>\n    </tr>\n    <tr>\n      <th>117</th>\n      <td>CAPE</td>\n      <td>EC120</td>\n      <td>1M</td>\n      <td>12.0</td>\n      <td>APPLE GOLDEN DELICIOUS</td>\n      <td>2019-12-30</td>\n      <td>100.0</td>\n      <td>100.0</td>\n      <td>1200.0</td>\n      <td>12</td>\n      <td>144.0</td>\n      <td>119</td>\n      <td>8.33</td>\n    </tr>\n    <tr>\n      <th>122</th>\n      <td>CAPE</td>\n      <td>JG110</td>\n      <td>2M</td>\n      <td>11.0</td>\n      <td>APPLE GOLDEN DELICIOUS</td>\n      <td>2020-08-05</td>\n      <td>70.0</td>\n      <td>70.0</td>\n      <td>5600.0</td>\n      <td>80</td>\n      <td>880.0</td>\n      <td>0</td>\n      <td>6.36</td>\n    </tr>\n    <tr>\n      <th>126</th>\n      <td>NATAL</td>\n      <td>IA400</td>\n      <td>2M</td>\n      <td>400.0</td>\n      <td>APPLE GOLDEN DELICIOUS</td>\n      <td>2020-07-21</td>\n      <td>800.0</td>\n      <td>800.0</td>\n      <td>1600.0</td>\n      <td>2</td>\n      <td>800.0</td>\n      <td>0</td>\n      <td>2.00</td>\n    </tr>\n    <tr>\n      <th>162</th>\n      <td>W.CAPE-BERGRIVER ETC</td>\n      <td>EC120</td>\n      <td>1S</td>\n      <td>12.0</td>\n      <td>APPLE GOLDEN DELICIOUS</td>\n      <td>2020-04-22</td>\n      <td>104.0</td>\n      <td>104.0</td>\n      <td>2392.0</td>\n      <td>23</td>\n      <td>276.0</td>\n      <td>0</td>\n      <td>8.67</td>\n    </tr>\n    <tr>\n      <th>164</th>\n      <td>WEST COAST</td>\n      <td>JE090</td>\n      <td>2S</td>\n      <td>9.0</td>\n      <td>APPLE GOLDEN DELICIOUS</td>\n      <td>2020-02-25</td>\n      <td>55.0</td>\n      <td>60.0</td>\n      <td>19860.0</td>\n      <td>359</td>\n      <td>3231.0</td>\n      <td>0</td>\n      <td>6.15</td>\n    </tr>\n    <tr>\n      <th>230</th>\n      <td>CAPE</td>\n      <td>IA400</td>\n      <td>1S</td>\n      <td>400.0</td>\n      <td>APPLE GOLDEN DELICIOUS</td>\n      <td>2020-09-28</td>\n      <td>1000.0</td>\n      <td>2000.0</td>\n      <td>139000.0</td>\n      <td>73</td>\n      <td>29200.0</td>\n      <td>96</td>\n      <td>4.76</td>\n    </tr>\n    <tr>\n      <th>258</th>\n      <td>CAPE</td>\n      <td>M4183</td>\n      <td>1X</td>\n      <td>18.3</td>\n      <td>APPLE GOLDEN DELICIOUS</td>\n      <td>2020-08-06</td>\n      <td>100.0</td>\n      <td>180.0</td>\n      <td>4630.0</td>\n      <td>37</td>\n      <td>677.1</td>\n      <td>127</td>\n      <td>6.84</td>\n    </tr>\n    <tr>\n      <th>278</th>\n      <td>W.CAPE-BERGRIVER ETC</td>\n      <td>JE090</td>\n      <td>2S</td>\n      <td>9.0</td>\n      <td>APPLE GOLDEN DELICIOUS</td>\n      <td>2020-08-25</td>\n      <td>55.0</td>\n      <td>55.0</td>\n      <td>4950.0</td>\n      <td>90</td>\n      <td>810.0</td>\n      <td>220</td>\n      <td>6.11</td>\n    </tr>\n    <tr>\n      <th>291</th>\n      <td>W.CAPE-BERGRIVER ETC</td>\n      <td>IA400</td>\n      <td>1S</td>\n      <td>400.0</td>\n      <td>APPLE GOLDEN DELICIOUS</td>\n      <td>2020-07-01</td>\n      <td>2000.0</td>\n      <td>2400.0</td>\n      <td>6800.0</td>\n      <td>3</td>\n      <td>1200.0</td>\n      <td>18</td>\n      <td>5.67</td>\n    </tr>\n  </tbody>\n</table>\n</div>"
     },
     "metadata": {},
     "execution_count": 7
    }
   ],
   "source": [
    "\n",
    "# Fetch training data and preprocess for modeling\n",
    "train = pd.read_csv('df - train_set.csv')\n",
    "\n",
    "train = train[(train['Commodities'] == 'APPLE GOLDEN DELICIOUS')]\n",
    "train.head(15)\n"
   ]
  },
  {
   "cell_type": "code",
   "execution_count": 8,
   "metadata": {},
   "outputs": [
    {
     "output_type": "stream",
     "name": "stdout",
     "text": [
      "Training Model...\n"
     ]
    },
    {
     "output_type": "execute_result",
     "data": {
      "text/plain": [
       "LinearRegression(normalize=True)"
      ]
     },
     "metadata": {},
     "execution_count": 8
    }
   ],
   "source": [
    "y_train = train['avg_price_per_kg']\n",
    "X_train = train[['Total_Qty_Sold','Stock_On_Hand']]\n",
    "\n",
    "# Fit model\n",
    "lm_regression = LinearRegression(normalize=True)\n",
    "print (\"Training Model...\")\n",
    "lm_regression.fit(X_train, y_train)"
   ]
  },
  {
   "cell_type": "code",
   "execution_count": 12,
   "metadata": {},
   "outputs": [
    {
     "output_type": "stream",
     "name": "stdout",
     "text": [
      "Training completed. Saving model to: trained-models/apples_simple_lm_regression.pkl\n"
     ]
    }
   ],
   "source": [
    "# Pickle model for use within our API\n",
    "save_path = 'trained-models/apples_simple_lm_regression.pkl'\n",
    "print (f\"Training completed. Saving model to: {save_path}\")\n",
    "pickle.dump(lm_regression, open(save_path,'wb'))"
   ]
  },
  {
   "cell_type": "code",
   "execution_count": null,
   "metadata": {},
   "outputs": [],
   "source": []
  }
 ],
 "metadata": {
  "kernelspec": {
   "name": "python385jvsc74a57bd013427881f06f13311079f5221e5dd632fdf9146891f6da22d47a93dcb9272d3a",
   "display_name": "Python 3.8.5 64-bit ('base': conda)"
  },
  "language_info": {
   "codemirror_mode": {
    "name": "ipython",
    "version": 3
   },
   "file_extension": ".py",
   "mimetype": "text/x-python",
   "name": "python",
   "nbconvert_exporter": "python",
   "pygments_lexer": "ipython3",
   "version": "3.8.5"
  }
 },
 "nbformat": 4,
 "nbformat_minor": 4
}