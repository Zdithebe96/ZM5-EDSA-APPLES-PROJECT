{
 "cells": [
  {
   "cell_type": "markdown",
   "metadata": {},
   "source": [
    "# CODE 1\n",
    "###### Used DecisionTreeRegressor modeling, x = 'Total_Qty_Sold','Stock_On_Hand', y = avg_price_per_kg"
   ]
  },
  {
   "cell_type": "code",
   "execution_count": 1,
   "metadata": {},
   "outputs": [],
   "source": [
    "#IMPORT PYTHON LIBRARIES\n",
    "\n",
    "import numpy as np\n",
    "import pandas as pd\n",
    "import matplotlib.pyplot as plt\n",
    "from matplotlib import rc\n",
    "import seaborn as sn\n",
    "from sklearn.tree import DecisionTreeRegressor\n",
    "from sklearn.model_selection import train_test_split\n"
   ]
  },
  {
   "cell_type": "code",
   "execution_count": null,
   "metadata": {},
   "outputs": [],
   "source": [
    "#LOAD CSV DATA AS DATA FRAME *full dataset\n",
    "\n",
    "df_train_set= pd.read_csv('df-train_set.csv')\n",
    "df_test_set= pd.read_csv('df-test_set.csv')\n",
    "\n",
    "#CREATE A NEW DATAFRAME / SLICE CURRENT DATAFRAME TO ONLY SHOW \"GOLDEN DELICIOUS APPLES\"\n",
    "\n",
    "df_golden_delicious = df_train_set[df_train_set.Commodities == \"APPLE GOLDEN DELICIOUS\"]\n",
    "df_golden_delicious_test = df_test_set[df_test_set.Commodities == \"APPLE GOLDEN DELICIOUS\"]"
   ]
  },
  {
   "cell_type": "code",
   "execution_count": null,
   "metadata": {},
   "outputs": [],
   "source": [
    "#SPLIT THE DATASET TO GET INPUT DATA AND OUTPUT DATA \n",
    "\n",
    "X = df_golden_delicious[['Total_Qty_Sold','Stock_On_Hand']]\n",
    "y = df_golden_delicious ['avg_price_per_kg']\n",
    "\n",
    "x_test = df_golden_delicious_test[['Total_Qty_Sold','Stock_On_Hand']]\n",
    "\n",
    "#CREATING A MODEL AND FITTING \n",
    "\n",
    "model = DecisionTreeRegressor()\n",
    "model.fit(X,y)\n",
    "\n",
    "\n",
    "#CREATING A DATAFRAME OF PREDICTIONS  \n",
    "predictions2 = pd.DataFrame({ 'Index': df_golden_delicious_test['Index'], 'avg_price_per_kg': model.predict(x_test)})\n",
    "predictions2    #viewing the predictions dataframe \n"
   ]
  }
 ],
 "metadata": {
  "kernelspec": {
   "display_name": "Python 3",
   "language": "python",
   "name": "python3"
  },
  "language_info": {
   "codemirror_mode": {
    "name": "ipython",
    "version": 3
   },
   "file_extension": ".py",
   "mimetype": "text/x-python",
   "name": "python",
   "nbconvert_exporter": "python",
   "pygments_lexer": "ipython3",
   "version": "3.8.5"
  }
 },
 "nbformat": 4,
 "nbformat_minor": 4
}
